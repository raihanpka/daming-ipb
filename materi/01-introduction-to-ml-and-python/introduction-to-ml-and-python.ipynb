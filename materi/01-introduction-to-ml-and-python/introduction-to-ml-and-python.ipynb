{
  "cells": [
    {
      "cell_type": "markdown",
      "metadata": {
        "id": "8YcYKnUdyAwE"
      },
      "source": [
        "# **Introduction to Python**"
      ]
    },
    {
      "cell_type": "markdown",
      "metadata": {
        "id": "igddgQrdyAwK"
      },
      "source": [
        "## Variabel"
      ]
    },
    {
      "cell_type": "markdown",
      "source": [
        "#### Tipe Data Dasar"
      ],
      "metadata": {
        "id": "CfLHfio8y9zJ"
      }
    },
    {
      "cell_type": "code",
      "source": [
        "# Tipe Data Integer (Bilangan Bulat)\n",
        "umur = 25\n",
        "print(\"Tipe data umur:\", type(umur))"
      ],
      "metadata": {
        "id": "e80uhknYyEsN"
      },
      "execution_count": null,
      "outputs": []
    },
    {
      "cell_type": "code",
      "source": [
        "# Tipe Data Float (Bilangan Desimal)\n",
        "tinggi_badan = 1.75\n",
        "print(\"Tipe data tinggi_badan:\", type(tinggi_badan))"
      ],
      "metadata": {
        "id": "gBb2fXIBzVDd"
      },
      "execution_count": null,
      "outputs": []
    },
    {
      "cell_type": "code",
      "source": [
        "# Tipe Data String (Teks)\n",
        "nama_lengkap = \"Budi Santoso\"\n",
        "print(\"Tipe data nama_lengkap:\", type(nama_lengkap))"
      ],
      "metadata": {
        "id": "30Kw2x2-zWj8"
      },
      "execution_count": null,
      "outputs": []
    },
    {
      "cell_type": "code",
      "source": [
        "# Tipe Data Boolean (Benar atau Salah)\n",
        "sudah_menikah = False  # Atau True\n",
        "print(\"Tipe data sudah_lulus:\", type(sudah_menikah))"
      ],
      "metadata": {
        "id": "PFhsVCK5zYAZ"
      },
      "execution_count": null,
      "outputs": []
    },
    {
      "cell_type": "markdown",
      "source": [
        "#### Tipe Data Lanjutan"
      ],
      "metadata": {
        "id": "3HS8LUxRzOwH"
      }
    },
    {
      "cell_type": "code",
      "source": [
        "# Tipe Data List (Daftar atau Array)\n",
        "daftar_belanja = [\"telur\", \"susu\", \"roti\"]\n",
        "print(\"Tipe data daftar_belanja:\", type(daftar_belanja))\n",
        "\n",
        "# Tipe Data Tuple (Tuple) - Mirip List, tapi elemennya tidak bisa diubah\n",
        "koordinat = (10, 20)\n",
        "print(\"Tipe data koordinat:\", type(koordinat))\n",
        "\n",
        "# Tipe Data Set (Himpunan) - Tidak berurut, dan tidak memiliki elemen yang sama\n",
        "warna_kesukaan = {\"merah\", \"hijau\", \"biru\"}\n",
        "print(\"Tipe data warna_kesukaan:\", type(warna_kesukaan))\n",
        "\n",
        "# Tipe Data Dictionary (Kamus) - Menyimpan data dalam pasangan kunci-nilai\n",
        "data_diri = {\"nama\": \"Ani\", \"umur\": 30, \"kota\": \"Jakarta\"}\n",
        "print(\"Tipe data data_diri:\", type(data_diri))"
      ],
      "metadata": {
        "id": "4qbVO4yizSVp"
      },
      "execution_count": null,
      "outputs": []
    },
    {
      "cell_type": "markdown",
      "source": [
        "## Operators"
      ],
      "metadata": {
        "id": "VtsLZTso1_pE"
      }
    },
    {
      "cell_type": "code",
      "source": [
        "# Arithmetic Operators\n",
        "x = 10\n",
        "y = 3\n",
        "\n",
        "print(\"x + y =\", x + y)  # Addition\n",
        "print(\"x - y =\", x - y)  # Subtraction\n",
        "print(\"x * y =\", x * y)  # Multiplication\n",
        "print(\"x / y =\", x / y)  # Division (float)\n",
        "print(\"x // y =\", x // y) # Floor division (integer)\n",
        "print(\"x % y =\", x % y)  # Modulus (remainder)\n",
        "print(\"x ** y =\", x ** y) # Exponentiation"
      ],
      "metadata": {
        "id": "F4eIjfuh4vKV"
      },
      "execution_count": null,
      "outputs": []
    },
    {
      "cell_type": "code",
      "source": [
        "# Comparison Operators\n",
        "a = 5\n",
        "b = 10\n",
        "\n",
        "print(\"a == b:\", a == b) # Equal to\n",
        "print(\"a != b:\", a != b) # Not equal to\n",
        "print(\"a > b:\", a > b)   # Greater than\n",
        "print(\"a < b:\", a < b)   # Less than\n",
        "print(\"a >= b:\", a >= b) # Greater than or equal to\n",
        "print(\"a <= b:\", a <= b) # Less than or equal to"
      ],
      "metadata": {
        "id": "0kxT4y4X3gQH"
      },
      "execution_count": null,
      "outputs": []
    },
    {
      "cell_type": "code",
      "source": [
        "# Assignment Operators\n",
        "num = 5\n",
        "num += 2  # num = num + 2 (increment)\n",
        "print(\"num:\", num)\n",
        "num -= 3  # num = num - 3 (decrement)\n",
        "print(\"num:\", num)\n",
        "num *= 4  # num = num * 4\n",
        "print(\"num:\", num)\n",
        "num /= 2 # num = num / 2\n",
        "print(\"num:\", num)\n",
        "num %= 3  # num = num % 3\n",
        "print(\"num:\", num)\n",
        "num //= 2 # num = num // 2\n",
        "print(\"num:\", num)\n",
        "num **= 2 # num = num ** 2\n",
        "print(\"num:\", num)"
      ],
      "metadata": {
        "id": "WHquxlC03dRu"
      },
      "execution_count": null,
      "outputs": []
    },
    {
      "cell_type": "code",
      "source": [
        "# Logical Operators\n",
        "p = True\n",
        "q = False\n",
        "\n",
        "print(\"p and q:\", p and q)  # Logical AND\n",
        "print(\"p or q:\", p or q)   # Logical OR\n",
        "print(\"not p:\", not p)      # Logical NOT"
      ],
      "metadata": {
        "id": "ZE3Qia333bnR"
      },
      "execution_count": null,
      "outputs": []
    },
    {
      "cell_type": "markdown",
      "metadata": {
        "id": "APGJmjXlyAwM"
      },
      "source": [
        "## Looping (Perulangan)"
      ]
    },
    {
      "cell_type": "code",
      "execution_count": null,
      "metadata": {
        "id": "RNl67Ok9yAwN"
      },
      "outputs": [],
      "source": [
        "# For Loop\n",
        "daftar_buah = [\"apel\", \"jeruk\", \"mangga\", \"pisang\"]\n",
        "\n",
        "for buah in daftar_buah:\n",
        "  print(f\"Saya suka buah {buah}\")\n",
        "\n",
        "# Contoh lain dengan range\n",
        "jumlah_perulangan = 5\n",
        "\n",
        "for indeks in range(jumlah_perulangan):\n",
        "  print(f\"Perulangan ke-{indeks + 1}\")\n"
      ]
    },
    {
      "cell_type": "code",
      "execution_count": null,
      "metadata": {
        "id": "7Kqag-ZkyAwN"
      },
      "outputs": [],
      "source": [
        "# While Loop\n",
        "\n",
        "# Inisialisasi variabel penghitung\n",
        "jumlah_perulangan = 1\n",
        "\n",
        "# Batas perulangan\n",
        "batas_perulangan = 5\n",
        "\n",
        "# Looping while\n",
        "while jumlah_perulangan < batas_perulangan:\n",
        "  print(f\"Aku Cinta IPB!\")\n",
        "  jumlah_perulangan += 1 # Increment nilai variabel jumlah_perulangan"
      ]
    },
    {
      "cell_type": "markdown",
      "metadata": {
        "id": "ZrsqH7LmyAwN"
      },
      "source": [
        "## Conditional (Percabangan)"
      ]
    },
    {
      "cell_type": "code",
      "execution_count": null,
      "metadata": {
        "id": "DoP8FVRhyAwO"
      },
      "outputs": [],
      "source": [
        "# Kondisi untuk mengecek beberapa kondisi sekaligus\n",
        "hujan = True\n",
        "hari_libur = False\n",
        "\n",
        "if hujan and hari_libur :\n",
        "  print(\"Saya akan tetap di rumah\")\n",
        "elif hujan and not hari_libur:\n",
        "  print(\"Saya akan membawa payung\")\n",
        "elif not hujan and hari_libur:\n",
        "  print(\"Saya akan pergi piknik\")\n",
        "else:\n",
        "  print(\"Saya akan bermain di luar\")\n",
        "\n",
        "# Kondisi untuk mengecek apakah ada dalam list\n",
        "daftar_buah = [\"apel\", \"jeruk\", \"mangga\"]\n",
        "buah_yang_dicari = \"jeruk\"\n",
        "\n",
        "if buah_yang_dicari in daftar_buah:\n",
        "  print(f\"Buah {buah_yang_dicari} ada dalam daftar\")\n",
        "else:\n",
        "  print(f\"Buah {buah_yang_dicari} tidak ada dalam daftar\")\n"
      ]
    },
    {
      "cell_type": "markdown",
      "metadata": {
        "id": "GF4EXWqmyAwO"
      },
      "source": [
        "## List"
      ]
    },
    {
      "cell_type": "code",
      "execution_count": null,
      "metadata": {
        "id": "NDp6TZl1yAwO"
      },
      "outputs": [],
      "source": [
        "# Membuat list berisi nama-nama buah\n",
        "daftar_buah = [\"apel\", \"jeruk\", \"mangga\", \"pisang\"]\n",
        "\n",
        "# Mengakses elemen dalam list\n",
        "buah_pertama = daftar_buah[0]  # Mengakses elemen pertama (indeks 0)\n",
        "buah_kedua = daftar_buah[1]   # Mengakses elemen kedua (indeks 1)\n",
        "\n",
        "# Menampilkan elemen-elemen dalam list\n",
        "print(\"Daftar buah:\", daftar_buah)\n",
        "print(\"Buah pertama:\", buah_pertama)\n",
        "print(\"Buah kedua:\", buah_kedua)\n",
        "\n",
        "# Menambahkan elemen ke dalam list\n",
        "daftar_buah.append(\"anggur\")  # Menambahkan \"anggur\" ke akhir list\n",
        "print(\"Daftar buah setelah ditambah anggur:\", daftar_buah)\n",
        "\n",
        "# Menghapus elemen dari list\n",
        "daftar_buah.remove(\"jeruk\")   # Menghapus \"jeruk\" dari list\n",
        "print(\"Daftar buah setelah jeruk dihapus:\", daftar_buah)\n",
        "\n",
        "# Mengubah elemen dalam list\n",
        "daftar_buah[0] = \"apel merah\" # Mengubah elemen pertama\n",
        "print(\"Daftar buah setelah apel diubah:\", daftar_buah)\n",
        "\n",
        "# Menampilkan panjang list\n",
        "panjang_daftar_buah = len(daftar_buah)\n",
        "print(\"Jumlah buah dalam daftar:\", panjang_daftar_buah)\n",
        "\n",
        "# Mengecek keberadaan elemen dalam list\n",
        "if \"mangga\" in daftar_buah:\n",
        "    print(\"Mangga ada dalam daftar buah\")\n",
        "else:\n",
        "    print(\"Mangga tidak ada dalam daftar buah\")\n",
        "\n",
        "# Mengurutkan list\n",
        "daftar_buah.sort()\n",
        "print(\"Daftar buah setelah diurutkan:\", daftar_buah)\n",
        "\n",
        "# Membalik urutan list\n",
        "daftar_buah.reverse()\n",
        "print(\"Daftar buah setelah dibalik:\", daftar_buah)"
      ]
    },
    {
      "cell_type": "markdown",
      "metadata": {
        "id": "4YoIjtG3yAwP"
      },
      "source": [
        "### List Comprehension"
      ]
    },
    {
      "cell_type": "code",
      "source": [
        "# Define angka with a list of numbers\n",
        "angka = [1, 2, 3, 4, 5, 6, 7, 8, 9, 10]\n",
        "\n",
        "# List comprehension untuk menghasilkan list baru yang berisi angka genap\n",
        "angka_genap = [x for x in angka if x % 2 == 0]\n",
        "print(f\"Daftar angka genap: {angka_genap}\")"
      ],
      "metadata": {
        "colab": {
          "base_uri": "https://localhost:8080/"
        },
        "id": "dqeLXeve1ZC5",
        "outputId": "ffb7b3e2-cb05-456e-aa59-271221eea4fd"
      },
      "execution_count": 6,
      "outputs": [
        {
          "output_type": "stream",
          "name": "stdout",
          "text": [
            "Daftar angka genap: [2, 4, 6, 8, 10]\n"
          ]
        }
      ]
    },
    {
      "cell_type": "markdown",
      "metadata": {
        "id": "H7foubhqyAwP"
      },
      "source": [
        "## Function"
      ]
    },
    {
      "cell_type": "code",
      "source": [
        "def fungsi_perkalian(bilangan_pertama, bilangan_kedua):\n",
        "    \"\"\"\n",
        "    Fungsi ini mengalikan dua bilangan\n",
        "\n",
        "    Args:\n",
        "        bilangan_pertama: Bilangan pertama\n",
        "        bilangan_kedua: Bilangan kedua\n",
        "\n",
        "    Returns:\n",
        "        Hasil perkalian dari dua bilangan tersebut.\n",
        "    \"\"\"\n",
        "    kali = bilangan_pertama * bilangan_kedua\n",
        "    return kali\n",
        "\n",
        "\n",
        "def fungsi_pembagian(bilangan_pertama, bilangan_kedua):\n",
        "    \"\"\"\n",
        "    Fungsi ini membagi bilangan pertama dengan bilangan kedua.\n",
        "\n",
        "    Args:\n",
        "        bilangan_pertama: Bilangan pertama.\n",
        "        bilangan_kedua: Bilangan kedua.\n",
        "\n",
        "    Returns:\n",
        "        Hasil pembagian dari kedua bilangan tersebut.\n",
        "        Mengembalikan pesan kesalahan jika bilangan kedua adalah nol.\n",
        "    \"\"\"\n",
        "    if bilangan_kedua == 0:\n",
        "        return \"Error: Pembagian dengan nol tidak diizinkan\"\n",
        "    else:\n",
        "        bagi = bilangan_pertama / bilangan_kedua\n",
        "        return bagi"
      ],
      "metadata": {
        "id": "j8FVls4m4xHH"
      },
      "execution_count": null,
      "outputs": []
    },
    {
      "cell_type": "markdown",
      "source": [
        "## **Challenge**"
      ],
      "metadata": {
        "id": "hogT6MTZ5A0a"
      }
    },
    {
      "cell_type": "code",
      "source": [
        "# 1.  Buat program untuk menentukan status kelulusan dari suatu mata kuliah yang ditentukan berdasarkan nilai UTS dan UAS\n",
        "#     (keduanya bilangan bulat 0 sampai dengan 100. Jika nilai lebih dari 100  atau kurang dari 0, kembalikan string TIDAK DITERIMA)\n",
        "#     dengan ketentuan sebagai berikut:\n",
        "\n",
        "#     Jika UTS dan UAS keduanya lebih besar dari 40 dan rata-ratanya lebih besar dari 60, maka dinyatakan LULUS.\n",
        "#     Jika UTS atau UAS ada yang bernilai lebih kecil atau sama dengan 40, sedangkan rata-ratanya lebih besar dari 60, dinyatakan LULUS BERSYARAT.\n",
        "#     Jika rata-ratanya kurang dari 60, dinyatakan TIDAK LULUS.\n",
        "\n",
        "#     Buat kode di bawah ini\n"
      ],
      "metadata": {
        "id": "4J7t3gUO5Dxp"
      },
      "execution_count": null,
      "outputs": []
    }
  ],
  "metadata": {
    "kernelspec": {
      "display_name": "Python 3",
      "language": "python",
      "name": "python3"
    },
    "language_info": {
      "name": "python",
      "version": "3.12.3"
    },
    "colab": {
      "provenance": []
    }
  },
  "nbformat": 4,
  "nbformat_minor": 0
}