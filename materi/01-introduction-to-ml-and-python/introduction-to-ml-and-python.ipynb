{
  "cells": [
    {
      "cell_type": "markdown",
      "metadata": {
        "id": "8YcYKnUdyAwE"
      },
      "source": [
        "# **Introduction to Python**"
      ]
    },
    {
      "cell_type": "markdown",
      "metadata": {
        "id": "igddgQrdyAwK"
      },
      "source": [
        "## Variabel"
      ]
    },
    {
      "cell_type": "markdown",
      "source": [
        "#### Tipe Data Dasar"
      ],
      "metadata": {
        "id": "CfLHfio8y9zJ"
      }
    },
    {
      "cell_type": "code",
      "source": [
        "# Tipe Data Integer (Bilangan Bulat)\n",
        "umur = 25\n",
        "print(\"Tipe data umur:\", type(umur))"
      ],
      "metadata": {
        "id": "e80uhknYyEsN"
      },
      "execution_count": null,
      "outputs": []
    },
    {
      "cell_type": "code",
      "source": [
        "# Tipe Data Float (Bilangan Desimal)\n",
        "tinggi_badan = 1.75\n",
        "print(\"Tipe data tinggi_badan:\", type(tinggi_badan))"
      ],
      "metadata": {
        "id": "gBb2fXIBzVDd"
      },
      "execution_count": null,
      "outputs": []
    },
    {
      "cell_type": "code",
      "source": [
        "# Tipe Data String (Teks)\n",
        "nama_lengkap = \"Budi Santoso\"\n",
        "print(\"Tipe data nama_lengkap:\", type(nama_lengkap))"
      ],
      "metadata": {
        "id": "30Kw2x2-zWj8"
      },
      "execution_count": null,
      "outputs": []
    },
    {
      "cell_type": "code",
      "source": [
        "# Tipe Data Boolean (Benar atau Salah)\n",
        "sudah_menikah = False  # Atau True\n",
        "print(\"Tipe data sudah_lulus:\", type(sudah_menikah))"
      ],
      "metadata": {
        "id": "PFhsVCK5zYAZ"
      },
      "execution_count": null,
      "outputs": []
    },
    {
      "cell_type": "code",
      "source": [
        "sudahlulus = 0\n",
        "print(\"Tipe data sudah_lulus:\", type(sudahlulus))"
      ],
      "metadata": {
        "id": "xDFVnGcDzsao",
        "outputId": "0f8b64ad-13ba-44c7-e0bb-83751b268753",
        "colab": {
          "base_uri": "https://localhost:8080/"
        }
      },
      "execution_count": 1,
      "outputs": [
        {
          "output_type": "stream",
          "name": "stdout",
          "text": [
            "Tipe data sudah_lulus: <class 'int'>\n"
          ]
        }
      ]
    },
    {
      "cell_type": "markdown",
      "source": [
        "#### Tipe Data Lanjutan"
      ],
      "metadata": {
        "id": "3HS8LUxRzOwH"
      }
    },
    {
      "cell_type": "code",
      "source": [
        "# Tipe Data List (Daftar)\n",
        "daftar_belanja = [\"telur\", \"susu\", \"roti\"]\n",
        "print(\"Tipe data daftar_belanja:\", type(daftar_belanja))\n",
        "\n",
        "# Tipe Data Tuple (Tuple) - Mirip List, tapi elemennya tidak bisa diubah\n",
        "koordinat = (10, 20)\n",
        "print(\"Tipe data koordinat:\", type(koordinat))\n",
        "\n",
        "# Tipe Data Set (Himpunan) - Tidak berurut, dan tidak memiliki elemen yang sama\n",
        "warna_kesukaan = {\"merah\", \"hijau\", \"biru\"}\n",
        "print(\"Tipe data warna_kesukaan:\", type(warna_kesukaan))\n",
        "\n",
        "# Tipe Data Dictionary (Kamus) - Menyimpan data dalam pasangan kunci-nilai\n",
        "data_diri = {\"nama\": \"Ani\", \"umur\": 30, \"kota\": \"Jakarta\"}\n",
        "print(\"Tipe data data_diri:\", type(data_diri))"
      ],
      "metadata": {
        "id": "4qbVO4yizSVp"
      },
      "execution_count": null,
      "outputs": []
    },
    {
      "cell_type": "markdown",
      "metadata": {
        "id": "APGJmjXlyAwM"
      },
      "source": [
        "## Looping (Perulangan)"
      ]
    },
    {
      "cell_type": "code",
      "execution_count": null,
      "metadata": {
        "id": "RNl67Ok9yAwN"
      },
      "outputs": [],
      "source": [
        "# Pengenalan dan contoh penggunaan for loop dan while loop untuk iterasi data\n",
        "\n",
        "# For loop\n",
        "for fruit in fruits:\n",
        "    print(\"For loop fruit:\", fruit)"
      ]
    },
    {
      "cell_type": "code",
      "execution_count": null,
      "metadata": {
        "id": "7Kqag-ZkyAwN"
      },
      "outputs": [],
      "source": [
        "# While loop\n",
        "count = 0\n",
        "while count < 5:\n",
        "    print(\"While loop count:\", count)\n",
        "    count += 1"
      ]
    },
    {
      "cell_type": "markdown",
      "metadata": {
        "id": "ZrsqH7LmyAwN"
      },
      "source": [
        "## Conditional (Percabangan)"
      ]
    },
    {
      "cell_type": "code",
      "execution_count": null,
      "metadata": {
        "id": "DoP8FVRhyAwO"
      },
      "outputs": [],
      "source": [
        "# Penjelasan penggunaan struktur if, elif, dan else untuk membuat keputusan dalam program\n",
        "\n",
        "age = 20\n",
        "if age < 18:\n",
        "    print(\"You are a minor.\")\n",
        "elif age < 65:\n",
        "    print(\"You are an adult.\")\n",
        "else:\n",
        "    print(\"You are a senior.\")"
      ]
    },
    {
      "cell_type": "markdown",
      "metadata": {
        "id": "GF4EXWqmyAwO"
      },
      "source": [
        "## List"
      ]
    },
    {
      "cell_type": "code",
      "execution_count": null,
      "metadata": {
        "id": "NDp6TZl1yAwO"
      },
      "outputs": [],
      "source": [
        "# Perkenalan struktur data list dan cara penggunaannya dalam menyimpan koleksi data\n",
        "\n",
        "# List\n",
        "fruits = [\"apple\", \"banana\", \"cherry\"]\n",
        "print(\"List:\", fruits)\n",
        "\n",
        "# Mengakses elemen dalam list\n",
        "print(\"First fruit:\", fruits[0])\n",
        "\n",
        "# Menambahkan elemen ke dalam list\n",
        "fruits.append(\"orange\")\n",
        "print(\"Updated List:\", fruits)"
      ]
    },
    {
      "cell_type": "markdown",
      "metadata": {
        "id": "4YoIjtG3yAwP"
      },
      "source": [
        "### List Comprehension"
      ]
    },
    {
      "cell_type": "markdown",
      "metadata": {
        "id": "H7foubhqyAwP"
      },
      "source": [
        "## Function"
      ]
    },
    {
      "cell_type": "code",
      "execution_count": null,
      "metadata": {
        "id": "xQHozmcWyAwP"
      },
      "outputs": [],
      "source": [
        "# Cara mendefinisikan dan memanggil fungsi, serta penjelasan tentang pentingnya modularisasi kode\n",
        "\n",
        "def greet(name):\n",
        "    return f\"Hello, {name}!\"\n",
        "\n",
        "print(greet(\"Alice\"))"
      ]
    },
    {
      "cell_type": "markdown",
      "metadata": {
        "id": "rNX3PytryAwQ"
      },
      "source": [
        "### Lambda Function"
      ]
    },
    {
      "cell_type": "code",
      "execution_count": null,
      "metadata": {
        "id": "2l3H7ADAyAwQ"
      },
      "outputs": [],
      "source": [
        "# Konsep fungsi lambda sebagai cara penulisan fungsi singkat dan penggunaannya dalam konteks tertentu\n",
        "\n",
        "# Fungsi lambda untuk penjumlahan dua angka\n",
        "add = lambda a, b: a + b\n",
        "print(\"Lambda Function (add):\", add(5, 3))"
      ]
    }
  ],
  "metadata": {
    "kernelspec": {
      "display_name": "Python 3",
      "language": "python",
      "name": "python3"
    },
    "language_info": {
      "name": "python",
      "version": "3.12.3"
    },
    "colab": {
      "provenance": []
    }
  },
  "nbformat": 4,
  "nbformat_minor": 0
}