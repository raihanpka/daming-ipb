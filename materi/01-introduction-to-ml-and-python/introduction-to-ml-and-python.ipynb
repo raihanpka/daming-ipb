{
 "cells": [
  {
   "cell_type": "markdown",
   "metadata": {},
   "source": [
    "# Introduction to Python"
   ]
  },
  {
   "cell_type": "markdown",
   "metadata": {},
   "source": [
    "## Variabel"
   ]
  },
  {
   "cell_type": "code",
   "execution_count": null,
   "metadata": {},
   "outputs": [],
   "source": [
    "# Integer\n",
    "x = 10\n",
    "print(\"Integer:\", x)\n",
    "\n",
    "# Float\n",
    "y = 3.14\n",
    "print(\"Float:\", y)\n",
    "\n",
    "# String\n",
    "name = \"Alice\"\n",
    "print(\"String:\", name)\n",
    "\n",
    "# Boolean\n",
    "is_student = True\n",
    "print(\"Boolean:\", is_student)"
   ]
  },
  {
   "cell_type": "markdown",
   "metadata": {},
   "source": [
    "## Looping (Perulangan)"
   ]
  },
  {
   "cell_type": "code",
   "execution_count": null,
   "metadata": {},
   "outputs": [],
   "source": [
    "# Pengenalan dan contoh penggunaan for loop dan while loop untuk iterasi data\n",
    "\n",
    "# For loop\n",
    "for fruit in fruits:\n",
    "    print(\"For loop fruit:\", fruit)"
   ]
  },
  {
   "cell_type": "code",
   "execution_count": null,
   "metadata": {},
   "outputs": [],
   "source": [
    "# While loop\n",
    "count = 0\n",
    "while count < 5:\n",
    "    print(\"While loop count:\", count)\n",
    "    count += 1"
   ]
  },
  {
   "cell_type": "markdown",
   "metadata": {},
   "source": [
    "## Conditional (Percabangan)"
   ]
  },
  {
   "cell_type": "code",
   "execution_count": null,
   "metadata": {},
   "outputs": [],
   "source": [
    "# Penjelasan penggunaan struktur if, elif, dan else untuk membuat keputusan dalam program\n",
    "\n",
    "age = 20\n",
    "if age < 18:\n",
    "    print(\"You are a minor.\")\n",
    "elif age < 65:\n",
    "    print(\"You are an adult.\")\n",
    "else:\n",
    "    print(\"You are a senior.\")"
   ]
  },
  {
   "cell_type": "markdown",
   "metadata": {},
   "source": [
    "## List"
   ]
  },
  {
   "cell_type": "code",
   "execution_count": null,
   "metadata": {},
   "outputs": [],
   "source": [
    "# Perkenalan struktur data list dan cara penggunaannya dalam menyimpan koleksi data\n",
    "\n",
    "# List\n",
    "fruits = [\"apple\", \"banana\", \"cherry\"]\n",
    "print(\"List:\", fruits)\n",
    "\n",
    "# Mengakses elemen dalam list\n",
    "print(\"First fruit:\", fruits[0])\n",
    "\n",
    "# Menambahkan elemen ke dalam list\n",
    "fruits.append(\"orange\")\n",
    "print(\"Updated List:\", fruits)"
   ]
  },
  {
   "cell_type": "markdown",
   "metadata": {},
   "source": [
    "### List Comprehension"
   ]
  },
  {
   "cell_type": "markdown",
   "metadata": {},
   "source": [
    "## Function"
   ]
  },
  {
   "cell_type": "code",
   "execution_count": null,
   "metadata": {},
   "outputs": [],
   "source": [
    "# Cara mendefinisikan dan memanggil fungsi, serta penjelasan tentang pentingnya modularisasi kode\n",
    "\n",
    "def greet(name):\n",
    "    return f\"Hello, {name}!\"\n",
    "\n",
    "print(greet(\"Alice\"))"
   ]
  },
  {
   "cell_type": "markdown",
   "metadata": {},
   "source": [
    "### Lambda Function"
   ]
  },
  {
   "cell_type": "code",
   "execution_count": null,
   "metadata": {},
   "outputs": [],
   "source": [
    "# Konsep fungsi lambda sebagai cara penulisan fungsi singkat dan penggunaannya dalam konteks tertentu\n",
    "\n",
    "# Fungsi lambda untuk penjumlahan dua angka\n",
    "add = lambda a, b: a + b\n",
    "print(\"Lambda Function (add):\", add(5, 3))"
   ]
  }
 ],
 "metadata": {
  "kernelspec": {
   "display_name": "Python 3",
   "language": "python",
   "name": "python3"
  },
  "language_info": {
   "name": "python",
   "version": "3.12.3"
  }
 },
 "nbformat": 4,
 "nbformat_minor": 2
}
