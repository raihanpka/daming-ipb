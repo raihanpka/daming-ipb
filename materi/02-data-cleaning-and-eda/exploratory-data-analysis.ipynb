{
 "cells": [
  {
   "cell_type": "code",
   "execution_count": 1,
   "metadata": {},
   "outputs": [
    {
     "name": "stdout",
     "output_type": "stream",
     "text": [
      "Array 1D: [1 2 3 4 5]\n",
      "Array 2D:\n",
      " [[1 2 3]\n",
      " [4 5 6]]\n",
      "Array dengan nilai nol:\n",
      " [[0. 0. 0.]\n",
      " [0. 0. 0.]\n",
      " [0. 0. 0.]]\n",
      "Array dengan nilai satu:\n",
      " [[1. 1. 1. 1.]\n",
      " [1. 1. 1. 1.]]\n",
      "Array dengan nilai acak:\n",
      " [[0.10601528 0.8272721 ]\n",
      " [0.62391783 0.07403098]]\n",
      "Elemen ketiga dari array_1d: 3\n",
      "Array 1D setelah diubah: [ 1  2 10  4  5]\n",
      "Array 1D setelah ditambah 5: [ 6  7 15  9 10]\n",
      "Rata-rata dari array_1d: 4.4\n"
     ]
    }
   ],
   "source": [
    "# Import library numpy\n",
    "import numpy as np\n",
    "\n",
    "# Membuat array 1 dimensi\n",
    "array_1d = np.array([1, 2, 3, 4, 5])\n",
    "print(\"Array 1D:\", array_1d)\n",
    "\n",
    "# Membuat array 2 dimensi\n",
    "array_2d = np.array([[1, 2, 3], [4, 5, 6]])\n",
    "print(\"Array 2D:\\n\", array_2d)\n",
    "\n",
    "# Membuat array dengan nilai nol\n",
    "array_zeros = np.zeros((3, 3))\n",
    "print(\"Array dengan nilai nol:\\n\", array_zeros)\n",
    "\n",
    "# Membuat array dengan nilai satu\n",
    "array_ones = np.ones((2, 4))\n",
    "print(\"Array dengan nilai satu:\\n\", array_ones)\n",
    "\n",
    "# Membuat array dengan nilai acak\n",
    "array_random = np.random.random((2, 2))\n",
    "print(\"Array dengan nilai acak:\\n\", array_random)\n",
    "\n",
    "# Mengakses elemen array\n",
    "elemen = array_1d[2]\n",
    "print(\"Elemen ketiga dari array_1d:\", elemen)\n",
    "\n",
    "# Mengubah elemen array\n",
    "array_1d[2] = 10\n",
    "print(\"Array 1D setelah diubah:\", array_1d)\n",
    "\n",
    "# Operasi aritmatika pada array\n",
    "array_sum = array_1d + 5\n",
    "print(\"Array 1D setelah ditambah 5:\", array_sum)\n",
    "\n",
    "# Menghitung rata-rata dari array\n",
    "mean_value = np.mean(array_1d)\n",
    "print(\"Rata-rata dari array_1d:\", mean_value)"
   ]
  }
 ],
 "metadata": {
  "kernelspec": {
   "display_name": "machine_learning",
   "language": "python",
   "name": "python3"
  },
  "language_info": {
   "codemirror_mode": {
    "name": "ipython",
    "version": 3
   },
   "file_extension": ".py",
   "mimetype": "text/x-python",
   "name": "python",
   "nbconvert_exporter": "python",
   "pygments_lexer": "ipython3",
   "version": "3.12.3"
  }
 },
 "nbformat": 4,
 "nbformat_minor": 2
}
